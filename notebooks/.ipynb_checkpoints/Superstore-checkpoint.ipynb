{
 "cells": [
  {
   "cell_type": "code",
   "execution_count": 10,
   "id": "a7ddc825-54e7-4b0f-9302-6edf56107bd5",
   "metadata": {},
   "outputs": [],
   "source": [
    "import pandas as pd\n",
    "import numpy as np\n",
    "import scipy.stats as stats\n",
    "import matplotlib.pyplot as plt"
   ]
  },
  {
   "cell_type": "code",
   "execution_count": 11,
   "id": "6988bc28-3343-451c-8124-64f759709bf5",
   "metadata": {},
   "outputs": [],
   "source": [
    "with_discount = pd.read_csv(\"D:/Bootcamp/Project_Final/statistics/discount.csv\")"
   ]
  },
  {
   "cell_type": "code",
   "execution_count": 12,
   "id": "f631ce53-0235-4063-a26f-f1675b31f8d5",
   "metadata": {},
   "outputs": [
    {
     "data": {
      "text/html": [
       "<div>\n",
       "<style scoped>\n",
       "    .dataframe tbody tr th:only-of-type {\n",
       "        vertical-align: middle;\n",
       "    }\n",
       "\n",
       "    .dataframe tbody tr th {\n",
       "        vertical-align: top;\n",
       "    }\n",
       "\n",
       "    .dataframe thead th {\n",
       "        text-align: right;\n",
       "    }\n",
       "</style>\n",
       "<table border=\"1\" class=\"dataframe\">\n",
       "  <thead>\n",
       "    <tr style=\"text-align: right;\">\n",
       "      <th></th>\n",
       "      <th>Order ID</th>\n",
       "      <th>product ID</th>\n",
       "      <th>sales</th>\n",
       "      <th>Quantity</th>\n",
       "      <th>Discount</th>\n",
       "      <th>Profit</th>\n",
       "    </tr>\n",
       "  </thead>\n",
       "  <tbody>\n",
       "    <tr>\n",
       "      <th>0</th>\n",
       "      <td>US-2013-126655</td>\n",
       "      <td>OFF-EN-10000761</td>\n",
       "      <td>18.840</td>\n",
       "      <td>2</td>\n",
       "      <td>0.4</td>\n",
       "      <td>-6.600</td>\n",
       "    </tr>\n",
       "    <tr>\n",
       "      <th>1</th>\n",
       "      <td>US-2013-126655</td>\n",
       "      <td>FUR-FU-10003066</td>\n",
       "      <td>308.280</td>\n",
       "      <td>7</td>\n",
       "      <td>0.4</td>\n",
       "      <td>-149.100</td>\n",
       "    </tr>\n",
       "    <tr>\n",
       "      <th>2</th>\n",
       "      <td>US-2013-126655</td>\n",
       "      <td>OFF-EN-10000075</td>\n",
       "      <td>40.176</td>\n",
       "      <td>2</td>\n",
       "      <td>0.4</td>\n",
       "      <td>-6.064</td>\n",
       "    </tr>\n",
       "    <tr>\n",
       "      <th>3</th>\n",
       "      <td>US-2013-126655</td>\n",
       "      <td>OFF-EN-10002226</td>\n",
       "      <td>8.784</td>\n",
       "      <td>3</td>\n",
       "      <td>0.4</td>\n",
       "      <td>-4.836</td>\n",
       "    </tr>\n",
       "    <tr>\n",
       "      <th>4</th>\n",
       "      <td>MX-2013-167759</td>\n",
       "      <td>FUR-CH-10002132</td>\n",
       "      <td>273.472</td>\n",
       "      <td>4</td>\n",
       "      <td>0.2</td>\n",
       "      <td>95.712</td>\n",
       "    </tr>\n",
       "  </tbody>\n",
       "</table>\n",
       "</div>"
      ],
      "text/plain": [
       "         Order ID       product ID    sales  Quantity  Discount   Profit\n",
       "0  US-2013-126655  OFF-EN-10000761   18.840         2       0.4   -6.600\n",
       "1  US-2013-126655  FUR-FU-10003066  308.280         7       0.4 -149.100\n",
       "2  US-2013-126655  OFF-EN-10000075   40.176         2       0.4   -6.064\n",
       "3  US-2013-126655  OFF-EN-10002226    8.784         3       0.4   -4.836\n",
       "4  MX-2013-167759  FUR-CH-10002132  273.472         4       0.2   95.712"
      ]
     },
     "execution_count": 12,
     "metadata": {},
     "output_type": "execute_result"
    }
   ],
   "source": [
    "with_discount.head()"
   ]
  },
  {
   "cell_type": "code",
   "execution_count": 13,
   "id": "cbbae492-d169-460f-a227-7f2f757e8cf7",
   "metadata": {},
   "outputs": [],
   "source": [
    "without_discount = pd.read_csv(\"D:/Bootcamp/Project_Final/statistics/nodiscount.csv\")"
   ]
  },
  {
   "cell_type": "code",
   "execution_count": 14,
   "id": "23f41573-f613-46f4-854e-f56a76cddcad",
   "metadata": {},
   "outputs": [
    {
     "data": {
      "text/html": [
       "<div>\n",
       "<style scoped>\n",
       "    .dataframe tbody tr th:only-of-type {\n",
       "        vertical-align: middle;\n",
       "    }\n",
       "\n",
       "    .dataframe tbody tr th {\n",
       "        vertical-align: top;\n",
       "    }\n",
       "\n",
       "    .dataframe thead th {\n",
       "        text-align: right;\n",
       "    }\n",
       "</style>\n",
       "<table border=\"1\" class=\"dataframe\">\n",
       "  <thead>\n",
       "    <tr style=\"text-align: right;\">\n",
       "      <th></th>\n",
       "      <th>Order ID</th>\n",
       "      <th>product ID</th>\n",
       "      <th>sales</th>\n",
       "      <th>Quantity</th>\n",
       "      <th>Discount</th>\n",
       "      <th>Profit</th>\n",
       "    </tr>\n",
       "  </thead>\n",
       "  <tbody>\n",
       "    <tr>\n",
       "      <th>0</th>\n",
       "      <td>MX-2014-143658</td>\n",
       "      <td>OFF-LA-10002782</td>\n",
       "      <td>13.08</td>\n",
       "      <td>3</td>\n",
       "      <td>0</td>\n",
       "      <td>4.56</td>\n",
       "    </tr>\n",
       "    <tr>\n",
       "      <th>1</th>\n",
       "      <td>MX-2012-155047</td>\n",
       "      <td>FUR-FU-10004015</td>\n",
       "      <td>252.16</td>\n",
       "      <td>8</td>\n",
       "      <td>0</td>\n",
       "      <td>90.72</td>\n",
       "    </tr>\n",
       "    <tr>\n",
       "      <th>2</th>\n",
       "      <td>MX-2012-155047</td>\n",
       "      <td>FUR-BO-10002352</td>\n",
       "      <td>193.28</td>\n",
       "      <td>2</td>\n",
       "      <td>0</td>\n",
       "      <td>54.08</td>\n",
       "    </tr>\n",
       "    <tr>\n",
       "      <th>3</th>\n",
       "      <td>MX-2012-155047</td>\n",
       "      <td>OFF-BI-10004428</td>\n",
       "      <td>35.44</td>\n",
       "      <td>4</td>\n",
       "      <td>0</td>\n",
       "      <td>4.96</td>\n",
       "    </tr>\n",
       "    <tr>\n",
       "      <th>4</th>\n",
       "      <td>MX-2012-155047</td>\n",
       "      <td>OFF-AR-10004594</td>\n",
       "      <td>71.60</td>\n",
       "      <td>2</td>\n",
       "      <td>0</td>\n",
       "      <td>11.44</td>\n",
       "    </tr>\n",
       "  </tbody>\n",
       "</table>\n",
       "</div>"
      ],
      "text/plain": [
       "         Order ID       product ID   sales  Quantity  Discount  Profit\n",
       "0  MX-2014-143658  OFF-LA-10002782   13.08         3         0    4.56\n",
       "1  MX-2012-155047  FUR-FU-10004015  252.16         8         0   90.72\n",
       "2  MX-2012-155047  FUR-BO-10002352  193.28         2         0   54.08\n",
       "3  MX-2012-155047  OFF-BI-10004428   35.44         4         0    4.96\n",
       "4  MX-2012-155047  OFF-AR-10004594   71.60         2         0   11.44"
      ]
     },
     "execution_count": 14,
     "metadata": {},
     "output_type": "execute_result"
    }
   ],
   "source": [
    "nodiscount.head()"
   ]
  },
  {
   "cell_type": "code",
   "execution_count": 43,
   "id": "bfe3de3c-8c4a-451e-b510-fb5a306e5d78",
   "metadata": {},
   "outputs": [
    {
     "data": {
      "image/png": "[encoded data removed]",
      "text/plain": [
       "<Figure size 1400x600 with 2 Axes>"
      ]
     },
     "metadata": {},
     "output_type": "display_data"
    }
   ],
   "source": [
    "# Plotting side-by-side histograms for quantity of items sold with and without discount\n",
    "plt.figure(figsize=(14, 6))\n",
    "\n",
    "# Histogram for the group with discount\n",
    "plt.subplot(1, 2, 1)\n",
    "plt.hist(with_discount['Quantity'], alpha=0.7, bins=10, color='blue', label='With Discount')\n",
    "plt.xlabel('Quantity Sold')\n",
    "plt.ylabel('Frequency')\n",
    "plt.title('Quantity Sold with Discount')\n",
    "plt.legend()\n",
    "\n",
    "# Histogram for the group without discount\n",
    "plt.subplot(1, 2, 2)\n",
    "plt.hist(without_discount['Quantity'], alpha=0.7, bins=10, color='orange', label='Without Discount')\n",
    "plt.xlabel('Quantity Sold')\n",
    "plt.ylabel('Frequency')\n",
    "plt.title('Quantity Sold without Discount')\n",
    "plt.legend()\n",
    "\n",
    "# Display the plots\n",
    "plt.tight_layout()\n",
    "plt.show()\n"
   ]
  },
  {
   "cell_type": "code",
   "execution_count": 44,
   "id": "de87db0b-6812-424c-ba8c-70f734615622",
   "metadata": {},
   "outputs": [
    {
     "data": {
      "image/png": "[encoded data removed]",
      "text/plain": [
       "<Figure size 800x600 with 1 Axes>"
      ]
     },
     "metadata": {},
     "output_type": "display_data"
    }
   ],
   "source": [
    "# Adding a column to indicate whether the sale has a discount or not\n",
    "with_discount['discount'] = 'With Discount'\n",
    "without_discount['discount'] = 'Without Discount'\n",
    "\n",
    "# Merging the two dataframes\n",
    "combined_sales = pd.concat([with_discount, without_discount])\n",
    "\n",
    "# Plotting a boxplot to compare sales with and without discount\n",
    "plt.figure(figsize=(8, 6))\n",
    "sns.boxplot(x='discount', y='Quantity', data=combined_sales)\n",
    "plt.title('Comparison of Sales: With vs Without Discount')\n",
    "plt.xlabel('Discount')\n",
    "plt.ylabel('Sales')\n",
    "plt.show()\n"
   ]
  },
  {
   "cell_type": "markdown",
   "id": "cd04f8ee-5690-427a-b2d0-02e51b3d3318",
   "metadata": {},
   "source": [
    "H0: There is no significant difference between the \"With Discount\" and \"Without Discount\" data.\n",
    "H1: There is a significant difference between the \"With Discount\" and \"Without Discount\" data."
   ]
  },
  {
   "cell_type": "code",
   "execution_count": 45,
   "id": "35185731-2bcb-488a-810c-46ae9b617ee7",
   "metadata": {},
   "outputs": [
    {
     "name": "stdout",
     "output_type": "stream",
     "text": [
      "Shapiro-Wilk test for With Discount: Stat=0.873135669134313, p-value=8.732014669759095e-84\n",
      "Shapiro-Wilk test for Without Discount: Stat=0.8620312408838376, p-value=8.376934347178037e-92\n",
      "The data for 'With Discount' is not normally distributed.\n",
      "The data for 'Without Discount' is not normally distributed.\n"
     ]
    },
    {
     "name": "stderr",
     "output_type": "stream",
     "text": [
      "C:\\Users\\sahar\\.conda\\envs\\Bootcamp\\Lib\\site-packages\\scipy\\stats\\_axis_nan_policy.py:586: UserWarning: scipy.stats.shapiro: For N > 5000, computed p-value may not be accurate. Current N is 21567.\n",
      "  res = hypotest_fun_out(*samples, **kwds)\n",
      "C:\\Users\\sahar\\.conda\\envs\\Bootcamp\\Lib\\site-packages\\scipy\\stats\\_axis_nan_policy.py:586: UserWarning: scipy.stats.shapiro: For N > 5000, computed p-value may not be accurate. Current N is 28103.\n",
      "  res = hypotest_fun_out(*samples, **kwds)\n"
     ]
    }
   ],
   "source": [
    "from scipy.stats import shapiro\n",
    "\n",
    "# Performing the Shapiro-Wilk test for data with discount\n",
    "stat_with, p_with = shapiro(with_discount['Quantity'])\n",
    "\n",
    "# Performing the Shapiro-Wilk test for data without discount\n",
    "stat_without, p_without = shapiro(without_discount['Quantity'])\n",
    "\n",
    "# Printing the results of the test\n",
    "print(f\"Shapiro-Wilk test for With Discount: Stat={stat_with}, p-value={p_with}\")\n",
    "print(f\"Shapiro-Wilk test for Without Discount: Stat={stat_without}, p-value={p_without}\")\n",
    "\n",
    "# Drawing conclusions based on p-value\n",
    "if p_with < 0.05:\n",
    "    print(\"The data for 'With Discount' is not normally distributed.\")\n",
    "else:\n",
    "    print(\"The data for 'With Discount' is normally distributed.\")\n",
    "\n",
    "if p_without < 0.05:\n",
    "    print(\"The data for 'Without Discount' is not normally distributed.\")\n",
    "else:\n",
    "    print(\"The data for 'Without Discount' is normally distributed.\")\n"
   ]
  },
  {
   "cell_type": "code",
   "execution_count": 46,
   "id": "0b839314-75ff-4fcd-9bf6-655eaa128a4c",
   "metadata": {},
   "outputs": [
    {
     "name": "stdout",
     "output_type": "stream",
     "text": [
      "Mann-Whitney U test: Stat=320990669.5, p-value=1.2366179467933793e-30\n",
      "There is a significant difference between 'With Discount' and 'Without Discount'.\n"
     ]
    }
   ],
   "source": [
    "from scipy.stats import mannwhitneyu\n",
    "\n",
    "# Performing the Mann-Whitney U test to compare the two groups\n",
    "stat, p = mannwhitneyu(with_discount['Quantity'], without_discount['Quantity'])\n",
    "\n",
    "# Printing the results of the test\n",
    "print(f\"Mann-Whitney U test: Stat={stat}, p-value={p}\")\n",
    "\n",
    "# Drawing conclusions based on p-value\n",
    "if p < 0.05:\n",
    "    print(\"There is a significant difference between 'With Discount' and 'Without Discount'.\")\n",
    "else:\n",
    "    print(\"There is no significant difference between 'With Discount' and 'Without Discount'.\")\n"
   ]
  }
 ],
 "metadata": {
  "kernelspec": {
   "display_name": "Python 3 (ipykernel)",
   "language": "python",
   "name": "python3"
  },
  "language_info": {
   "codemirror_mode": {
    "name": "ipython",
    "version": 3
   },
   "file_extension": ".py",
   "mimetype": "text/x-python",
   "name": "python",
   "nbconvert_exporter": "python",
   "pygments_lexer": "ipython3",
   "version": "3.12.8"
  }
 },
 "nbformat": 4,
 "nbformat_minor": 5
}
